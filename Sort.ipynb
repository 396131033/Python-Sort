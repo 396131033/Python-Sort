{
 "cells": [
  {
   "cell_type": "markdown",
   "metadata": {},
   "source": [
    "# 十大常用排序算法\n",
    "\n",
    "https://mp.weixin.qq.com/s/tc2dr_01MIDU16rwNwhs7w"
   ]
  },
  {
   "cell_type": "markdown",
   "metadata": {},
   "source": [
    "# 本章介绍使用Python实现场景的几种排序算法。\n",
    "# 分别有冒泡算法、快速排序、插入排序、希尔排序、选择排序、堆排序、归并排序、计数排序、桶排序、基数排序。"
   ]
  },
  {
   "cell_type": "markdown",
   "metadata": {},
   "source": [
    "# 创建一个比较大的list，用于测试排序算法\n"
   ]
  },
  {
   "cell_type": "code",
   "execution_count": null,
   "metadata": {},
   "outputs": [],
   "source": [
    "import numpy as np\n",
    "\n",
    "import time\n",
    "\n",
    "src_list = np.random.randint(1,1000,(500)).tolist()\n",
    "\n",
    "a = [i for i in range(10)]\n",
    "print(a)"
   ]
  },
  {
   "cell_type": "markdown",
   "metadata": {},
   "source": [
    "# 1、冒泡排序\n",
    "\n",
    "冒泡排序是一种简单直观的排序算法。它重复地走访过要排序的数列，一次比较两个元素，\n",
    "\n",
    "如果他们的顺序错误就把他们交换过来。走访数列的工作是重复地进行直到没有再需要交换，\n",
    "\n",
    "也就是说该数列已经排序完成。这个算法的名字由来是因为越小的元素会经由交换慢慢\"浮\"到数列的顶端。"
   ]
  },
  {
   "cell_type": "code",
   "execution_count": 9,
   "metadata": {},
   "outputs": [
    {
     "name": "stdout",
     "output_type": "stream",
     "text": [
      "耗时：514121 毫秒\n"
     ]
    }
   ],
   "source": [
    "def bubble_sort(arr):\n",
    "    n = len(arr)\n",
    "    for i in range(n-1):    #总的循环次数，总共需要循环 n-1次\n",
    "        for j in range(0,n-1-i):   #相邻两数进行比较，满足条件交换位置，第一次可以把最大值排到末尾\n",
    "            if arr[j+1]>arr[j]:\n",
    "                arr[j+1],arr[j] = arr[j],arr[j+1]\n",
    "    return arr\n",
    "\n",
    "start = time.time()\n",
    "result = bubble_sort(src_list)\n",
    "end = time.time()\n",
    "\n",
    "# print(\"耗时 {} 毫秒\".format(int(round(start - end))*1000))\n",
    "print (\"耗时：%d 毫秒\" % int(round((end - start) * 1000))) \n",
    "    "
   ]
  },
  {
   "cell_type": "markdown",
   "metadata": {},
   "source": [
    "# 2、快速排序\n",
    "\n",
    "在一个数据集中取个数作为参考点，大于该数的元素放在其右边；\n",
    "\n",
    "小于该数的元素放在其左边。这样就将数据集分成两部分，\n",
    "\n",
    "大于参考值部分和小于参考值部分，递归该过程，直到序列中所有记录均有序。"
   ]
  },
  {
   "cell_type": "code",
   "execution_count": null,
   "metadata": {},
   "outputs": [],
   "source": [
    "a = [1,2,3]\n",
    "b = [4,5,6]\n",
    "print(a)\n",
    "print(a<b)"
   ]
  },
  {
   "cell_type": "code",
   "execution_count": 27,
   "metadata": {},
   "outputs": [
    {
     "name": "stdout",
     "output_type": "stream",
     "text": [
      "耗时： 164 毫秒\n",
      "==================================================\n"
     ]
    }
   ],
   "source": [
    "def Quick_Sort(list_,left,right):\n",
    "    if left>=right:\n",
    "        return list_\n",
    "    \n",
    "    pivot = list_[left]\n",
    "    low = left\n",
    "    high = right\n",
    "    \n",
    "    while left < high:\n",
    "#         从右边开始查找大于参考点的值\n",
    "        while left < right and  list_[right] >= pivot:\n",
    "            \n",
    "            right -= 1\n",
    "#             这个位置的值先移到左边\n",
    "        list_[left] = list_[right]\n",
    "#         从左边开始查找大于参考点的值\n",
    "        while left < right and list_[left] >= pivot:\n",
    "            \n",
    "            left += 1\n",
    "#           这个位置的值先移到右边\n",
    "        list_[right] = list_[left]\n",
    "        \n",
    "        list_[left] = pivot\n",
    "        \n",
    "#         递归并返回结果\n",
    "        Quick_Sort(list_,low,left-1)\n",
    "    \n",
    "        Quick_Sort(list_,left+1,high)\n",
    "        \n",
    "        return list_\n",
    "    \n",
    "start = time.time()\n",
    "\n",
    "Quick_Sort(src_list,0,1000)\n",
    "\n",
    "end = time.time()\n",
    "        \n",
    "# print (\"耗时：%d 毫秒\" % int(round((end - start) * 1000)))\n",
    "print(\"耗时： {} 毫秒\".format(int(round((end-start)*1000))))\n",
    "\n",
    "print(\"=\"*50)\n",
    "        "
   ]
  },
  {
   "cell_type": "markdown",
   "metadata": {},
   "source": [
    "# 3、插入排序\n",
    "\n",
    "插入排序是一种简单直观的排序算法。它的工作原理是通过构建有序序列，对于未排序数据，\n",
    "\n",
    "在已排序序列中从后向前扫描，找到相应位置并插入"
   ]
  },
  {
   "cell_type": "code",
   "execution_count": 28,
   "metadata": {},
   "outputs": [
    {
     "name": "stdout",
     "output_type": "stream",
     "text": [
      "耗时：85 毫秒\n"
     ]
    }
   ],
   "source": [
    "def Inser_Sort(alist):\n",
    "    length = len(alist)\n",
    "    for i in range(1,length):\n",
    "        for j in range(i,0,-1):\n",
    "            if alist[j] < alist[j-1]:\n",
    "                alist[j],alist[j-1] = alist[j-1],alist[i]\n",
    "            else:\n",
    "                break\n",
    "    return alist\n",
    "\n",
    "start = time.time()\n",
    "result = Inser_Sort(src_list)\n",
    "end = time.time()\n",
    "print(\"耗时：{} 毫秒\".format(int(round((end-start)*1000))))\n",
    "                    \n",
    "    "
   ]
  },
  {
   "cell_type": "markdown",
   "metadata": {},
   "source": [
    "# 4、希尔排序\n",
    "\n",
    "希尔排序，也称递减增量排序算法，是插入排序的一种更高效的改进版本。但希尔排序是非稳定排序算法。\n",
    "\n",
    "希尔排序的基本思想是：先将整个待排序的记录序列分割成为若干子序列分别进行直接插入排序，待整个序列中的记录\"基本有序\"时，\n",
    "\n",
    "再对全体记录进行依次直接插入排序。\n"
   ]
  },
  {
   "cell_type": "code",
   "execution_count": 30,
   "metadata": {},
   "outputs": [
    {
     "name": "stdout",
     "output_type": "stream",
     "text": [
      "耗时：373 毫秒\n"
     ]
    }
   ],
   "source": [
    "def Shell_Sort(alist):\n",
    "    n = len(alist)\n",
    "    gap = n//2     #整除，向下取整\n",
    "    \n",
    "    while gap >= 1:\n",
    "        for i in range(gap,n):\n",
    "            while (i-gap) >= 0:\n",
    "                if alist[gap] < alist[i-gap]:\n",
    "                    alist[gap],alist[i-gap] = alist[i-gap],alist[gap]\n",
    "                    i = i-gap\n",
    "                else:\n",
    "                    break\n",
    "        gap = gap//2\n",
    "    return alist\n",
    "\n",
    "start = time.time()\n",
    "result = Shell_Sort(src_list)\n",
    "end = time.time()\n",
    "print (\"耗时：%d 毫秒\" % int(round((end - start) * 1000)))\n",
    "                \n",
    "    "
   ]
  },
  {
   "cell_type": "markdown",
   "metadata": {},
   "source": [
    "# 5、选择排序\n",
    "\n",
    "选择排序是一种简单直观的排序算法。它的工作原理：首先在未排序序列中找到最小（大）元素，\n",
    "\n",
    "存放到排序序列的起始位置，然后再从剩余未排序元素中继续寻找最小（大）元素，然后放到已排序序列的末尾。\n",
    "\n",
    "以此类推，直到所有元素均排序完毕。"
   ]
  },
  {
   "cell_type": "code",
   "execution_count": 31,
   "metadata": {},
   "outputs": [
    {
     "name": "stdout",
     "output_type": "stream",
     "text": [
      "耗时：267980 毫秒\n"
     ]
    }
   ],
   "source": [
    "def Select_Sort(alist):\n",
    "    length = len(alist)\n",
    "    for i in range(length):\n",
    "        #         设置索引 i 为最小值 的索引\n",
    "        min_index = i\n",
    "#         通过比较不断调整最小值的位置\n",
    "        for j in range(i,length):\n",
    "            if alist[j]<alist[min_index]:\n",
    "                mix_index = j\n",
    "        alist[i],alist[min_index] = alist[min_index],alist[i]\n",
    "    return alist\n",
    "\n",
    "start = time.time()\n",
    "result = Select_Sort(src_list)\n",
    "end = time.time()\n",
    "print(\"耗时：{} 毫秒\".format(int(round((end-start)*1000))))\n",
    "                    \n",
    "\n",
    "        "
   ]
  },
  {
   "cell_type": "markdown",
   "metadata": {},
   "source": [
    "# 6、堆排序\n",
    "堆排序（Heapsort）是指利用堆这种数据结构所设计的一种排序算法。\n",
    "\n",
    "堆是一个近似完全二叉树的结构，并同时满足堆的性质：即子结点的键值或索引总是小于（或者大于）它的父节点。\n",
    "\n",
    "堆排序可以说是一种利用堆的概念来排序的选择排序。"
   ]
  },
  {
   "cell_type": "code",
   "execution_count": 33,
   "metadata": {},
   "outputs": [
    {
     "name": "stdout",
     "output_type": "stream",
     "text": [
      "耗时：117 毫秒\n"
     ]
    }
   ],
   "source": [
    "def Max_Heap(heap,heapsize,root):\n",
    "    left = 2*root+1\n",
    "    right = left+1\n",
    "    large = root\n",
    "    if left < heapsize and heap[large] < heap[left]:\n",
    "        large = left\n",
    "    if right < heapsize and heap[large] < heap[left]:\n",
    "        large = right\n",
    "        \n",
    "    # 若large=right或large=left，则说明，出现比父节点大的子节点，这时对调，使子节点变为父节点\n",
    "    if large != root:\n",
    "        heap[large],heap[root] = heap[root],heap[large]\n",
    "        Max_Heap(heap,heapsize,root)\n",
    "        \n",
    "# 构造一个堆，对堆中数据进行重新排序\n",
    "def Build_Max_Heap(heap):\n",
    "    length = len(heap)\n",
    "#     从后往前调整结构\n",
    "    for i in range((length-2)//2,-1,-1):\n",
    "        Max_Heap(heap,length,i)\n",
    "        \n",
    "# 将根节点取出与最后一位对调，对前面len-1 个节点继续进行对调过程\n",
    "def Heap_Sort(heap):\n",
    "    Build_Max_Heap(heap)\n",
    "    for i in range(len(heap)-1,-1,-1):\n",
    "        heap[0],heap[i] = heap[i],heap[0]\n",
    "        Max_Heap(heap,i,0)\n",
    "    return heap\n",
    "\n",
    "\n",
    "start = time.time()\n",
    "result = Heap_Sort(src_list)\n",
    "end = time.time()\n",
    "print(\"耗时：{} 毫秒\".format(int(round((end-start)*1000))))       \n",
    "        \n",
    "    "
   ]
  },
  {
   "cell_type": "markdown",
   "metadata": {},
   "source": [
    "# 7、归并排序\n",
    "\n",
    "归并排序(mergesort)是创建在归并操作上的一种有效的排序算法，该算法是采用分治法的一个非常典型的应用。\n",
    "\n",
    "分治法：\n",
    "\n",
    "分割：递归地把当前序列平均分割成两半\n",
    "\n",
    "集成：在保持元素顺序的同时将上一步得到的子序列集成到一起(归并)"
   ]
  },
  {
   "cell_type": "code",
   "execution_count": 34,
   "metadata": {},
   "outputs": [
    {
     "name": "stdout",
     "output_type": "stream",
     "text": [
      "耗时：520 毫秒\n"
     ]
    }
   ],
   "source": [
    "def Merge_Sort(alist):\n",
    "    if len(alist) < 2:\n",
    "        return alist\n",
    "    #     将列表分成更小的列表\n",
    "    mid = int(len(alist)/2)\n",
    "#     分别对左右两个列表进行处理，分别返回两个排序好的列表\n",
    "    left = Merge_Sort(alist[:mid])\n",
    "    right = Merge_Sort(alist[mid:])\n",
    "    \n",
    "#     对排序好的两个列表进行合并，产生一个新的排序好的列表\n",
    "    return Merge(left,right)\n",
    "\n",
    "def Merge(left,right):\n",
    "    i = 0\n",
    "    j = 0\n",
    "    result = []\n",
    "    while i < len(left) and j < len(right):\n",
    "        if left[i] < right[j]:\n",
    "            \n",
    "            result.append(left[i])\n",
    "            i += 1\n",
    "            \n",
    "        else:\n",
    "            result.append(right[j])\n",
    "            j += 1\n",
    "            \n",
    "    result += left[i:]\n",
    "    result += right[j:]\n",
    "    return result\n",
    "\n",
    "start = time.time()\n",
    "result = Merge_Sort(src_list)\n",
    "end = time.time()\n",
    "print(\"耗时：{} 毫秒\".format(int(round((end-start)*1000)))) \n",
    "    \n",
    "    \n"
   ]
  },
  {
   "cell_type": "markdown",
   "metadata": {},
   "source": [
    "# 8、计数排序\n",
    "\n",
    "计数排序的核心在于将输入的数据值转化为键存储在额外开辟的数组空间中。\n",
    "\n",
    "作为一种线性时间复杂度的排序，计数排序要求输入的数据必须是有确定范围的整数。\n",
    "\n",
    "对每一个输入的元素a[i]，确定小于 a[i] 的元素个数。所以可以直接把 a[i] 放到它输出数组中的位置上。\n",
    "\n",
    "假设有5个数小于 a[i]，所以 a[i] 应该放在数组的第6个位置上"
   ]
  },
  {
   "cell_type": "code",
   "execution_count": 36,
   "metadata": {},
   "outputs": [
    {
     "name": "stdout",
     "output_type": "stream",
     "text": [
      "耗时：53 毫秒\n"
     ]
    }
   ],
   "source": [
    "def Count_Sort(alist):\n",
    "#     找到最大最小值\n",
    "    min_num = min(alist)\n",
    "    max_num = max(alist)\n",
    "#     初始化计数列表\n",
    "    count_list = [0]*(max_num - min_num + 1)    #count_list 列表的长度为 （max_num - min_num + 1）,且每个元素为0\n",
    "#     对列表中的每一个元素计数\n",
    "    for num in alist:\n",
    "        count_list[num-min_num] += 1\n",
    "    alist.clear()  #清空列表内的元素\n",
    "    \n",
    "#     当某个元素的个数不为0， 将该元素填回alist 列表\n",
    "    for cur_num ,count in enumerate(count_list):\n",
    "        while count != 0:\n",
    "            alist.append(cur_num+min_num)\n",
    "            count -= 1\n",
    "    return alist\n",
    "\n",
    "\n",
    "start = time.time()\n",
    "result = Count_Sort(src_list)\n",
    "end = time.time()\n",
    "print(\"耗时：{} 毫秒\".format(int(round((end-start)*1000)))) \n",
    "    "
   ]
  },
  {
   "cell_type": "markdown",
   "metadata": {},
   "source": [
    "# 9、桶排序\n",
    "\n",
    "把数组a划分为n个大小相同子区间（桶），每个子区间各自排序，最后合并。桶排序要求数据的分布必须均匀，不然可能会失效。\n",
    "\n",
    "计数排序是桶排序的一种特殊情况，可以把计数排序当成每个桶里只有一个元素的情况。\n",
    "\n",
    "原理：\n",
    "\n",
    "(1) 设置一个定量的数组当作空桶\n",
    "\n",
    "(2) 遍历输入数据，并且把数据一个一个放到对应的桶里去\n",
    "\n",
    "(3) 对每个不是空的桶进行排序\n",
    "\n",
    "(4) 从不是空的桶里把排好序的数据拼接起来"
   ]
  },
  {
   "cell_type": "code",
   "execution_count": 40,
   "metadata": {},
   "outputs": [
    {
     "ename": "ValueError",
     "evalue": "min() arg is an empty sequence",
     "output_type": "error",
     "traceback": [
      "\u001b[1;31m---------------------------------------------------------------------------\u001b[0m",
      "\u001b[1;31mValueError\u001b[0m                                Traceback (most recent call last)",
      "\u001b[1;32m<ipython-input-40-7055bacf3841>\u001b[0m in \u001b[0;36m<module>\u001b[1;34m()\u001b[0m\n\u001b[0;32m     17\u001b[0m \u001b[1;33m\u001b[0m\u001b[0m\n\u001b[0;32m     18\u001b[0m \u001b[0mstart\u001b[0m \u001b[1;33m=\u001b[0m \u001b[0mtime\u001b[0m\u001b[1;33m.\u001b[0m\u001b[0mtime\u001b[0m\u001b[1;33m(\u001b[0m\u001b[1;33m)\u001b[0m\u001b[1;33m\u001b[0m\u001b[0m\n\u001b[1;32m---> 19\u001b[1;33m \u001b[0mresult\u001b[0m \u001b[1;33m=\u001b[0m \u001b[0mBucket_Sort\u001b[0m\u001b[1;33m(\u001b[0m\u001b[0msrc_list\u001b[0m\u001b[1;33m)\u001b[0m\u001b[1;33m\u001b[0m\u001b[0m\n\u001b[0m\u001b[0;32m     20\u001b[0m \u001b[0mend\u001b[0m \u001b[1;33m=\u001b[0m \u001b[0mtime\u001b[0m\u001b[1;33m.\u001b[0m\u001b[0mtime\u001b[0m\u001b[1;33m(\u001b[0m\u001b[1;33m)\u001b[0m\u001b[1;33m\u001b[0m\u001b[0m\n\u001b[0;32m     21\u001b[0m \u001b[0mprint\u001b[0m\u001b[1;33m(\u001b[0m\u001b[1;34m\"耗时：{} 毫秒\"\u001b[0m\u001b[1;33m.\u001b[0m\u001b[0mformat\u001b[0m\u001b[1;33m(\u001b[0m\u001b[0mint\u001b[0m\u001b[1;33m(\u001b[0m\u001b[0mround\u001b[0m\u001b[1;33m(\u001b[0m\u001b[1;33m(\u001b[0m\u001b[0mend\u001b[0m\u001b[1;33m-\u001b[0m\u001b[0mstart\u001b[0m\u001b[1;33m)\u001b[0m\u001b[1;33m*\u001b[0m\u001b[1;36m1000\u001b[0m\u001b[1;33m)\u001b[0m\u001b[1;33m)\u001b[0m\u001b[1;33m)\u001b[0m\u001b[1;33m)\u001b[0m\u001b[1;33m\u001b[0m\u001b[0m\n",
      "\u001b[1;32m<ipython-input-40-7055bacf3841>\u001b[0m in \u001b[0;36mBucket_Sort\u001b[1;34m(alist)\u001b[0m\n\u001b[0;32m      1\u001b[0m \u001b[1;32mdef\u001b[0m \u001b[0mBucket_Sort\u001b[0m\u001b[1;33m(\u001b[0m\u001b[0malist\u001b[0m\u001b[1;33m)\u001b[0m\u001b[1;33m:\u001b[0m\u001b[1;33m\u001b[0m\u001b[0m\n\u001b[1;32m----> 2\u001b[1;33m     \u001b[0mmin_num\u001b[0m \u001b[1;33m=\u001b[0m \u001b[0mmin\u001b[0m\u001b[1;33m(\u001b[0m\u001b[0malist\u001b[0m\u001b[1;33m)\u001b[0m\u001b[1;33m\u001b[0m\u001b[0m\n\u001b[0m\u001b[0;32m      3\u001b[0m     \u001b[0mmax_num\u001b[0m \u001b[1;33m=\u001b[0m \u001b[0mmax\u001b[0m\u001b[1;33m(\u001b[0m\u001b[0malist\u001b[0m\u001b[1;33m)\u001b[0m\u001b[1;33m\u001b[0m\u001b[0m\n\u001b[0;32m      4\u001b[0m     \u001b[1;31m#     设置桶的大小\u001b[0m\u001b[1;33m\u001b[0m\u001b[1;33m\u001b[0m\u001b[0m\n\u001b[0;32m      5\u001b[0m     \u001b[0mbucket_size\u001b[0m \u001b[1;33m=\u001b[0m \u001b[1;33m(\u001b[0m\u001b[0mmax_num\u001b[0m \u001b[1;33m-\u001b[0m \u001b[0mmin_num\u001b[0m\u001b[1;33m)\u001b[0m\u001b[1;33m/\u001b[0m\u001b[0mlen\u001b[0m\u001b[1;33m(\u001b[0m\u001b[0malist\u001b[0m\u001b[1;33m)\u001b[0m\u001b[1;33m\u001b[0m\u001b[0m\n",
      "\u001b[1;31mValueError\u001b[0m: min() arg is an empty sequence"
     ]
    }
   ],
   "source": [
    "def Bucket_Sort(alist):\n",
    "    min_num = min(alist)\n",
    "    max_num = max(alist)\n",
    "    #     设置桶的大小\n",
    "    bucket_size = (max_num - min_num)/len(alist)\n",
    "#     创建桶数组\n",
    "    bucket_list = [[] for i in range(len(alist)+1)]\n",
    "#     向桶数组填数\n",
    "    for num in alist:\n",
    "        bucket_list = [int((num - min_num)//bucket_size)].append(num)\n",
    "    alist.clear()\n",
    "#     回填，这里桶内部排序直接调用了sorted\n",
    "    for i in bucket_list:\n",
    "        for j in sorted(i):\n",
    "            alist.append(j)\n",
    "    return alist\n",
    "\n",
    "start = time.time()\n",
    "result = Bucket_Sort(src_list)\n",
    "end = time.time()\n",
    "print(\"耗时：{} 毫秒\".format(int(round((end-start)*1000)))) \n",
    "    \n"
   ]
  },
  {
   "cell_type": "code",
   "execution_count": null,
   "metadata": {},
   "outputs": [],
   "source": [
    "# 基数排序\n",
    "\n",
    "基数排序的总体思路就是将待排序数据拆分成多个关键字进行排序，也就是说，基数排序的实质是多关键字排序，\n",
    "\n",
    "比如说成绩的排序，如果两个人总分相同，则语文高的排在前面，语文成绩也相同则数学高的排在前面，\n",
    "\n",
    "如果对数字进行排序，那么个位、十位、百位就是不同优先级的关键\n",
    "\n",
    "原理：\n",
    "\n",
    "(1) 取得数组中的最大数，并取得位数\n",
    "\n",
    "(2) 建立桶数组\n",
    "\n",
    "(3) 按位数的大小分别装进不同的桶里\n",
    "\n",
    "(4) 将原数组清空，将各个桶里的数据依次添加进原列表\n",
    "\n",
    "(5) 再进行前一位的排序，依次循环，直到排序的位数大于最大值的位数"
   ]
  },
  {
   "cell_type": "code",
   "execution_count": 44,
   "metadata": {},
   "outputs": [
    {
     "ename": "ValueError",
     "evalue": "max() arg is an empty sequence",
     "output_type": "error",
     "traceback": [
      "\u001b[1;31m---------------------------------------------------------------------------\u001b[0m",
      "\u001b[1;31mValueError\u001b[0m                                Traceback (most recent call last)",
      "\u001b[1;32m<ipython-input-44-5d6570d4cf27>\u001b[0m in \u001b[0;36m<module>\u001b[1;34m()\u001b[0m\n\u001b[0;32m     20\u001b[0m     \u001b[1;32mreturn\u001b[0m \u001b[0malist\u001b[0m\u001b[1;33m\u001b[0m\u001b[0m\n\u001b[0;32m     21\u001b[0m \u001b[0mstart\u001b[0m \u001b[1;33m=\u001b[0m \u001b[0mtime\u001b[0m\u001b[1;33m.\u001b[0m\u001b[0mtime\u001b[0m\u001b[1;33m(\u001b[0m\u001b[1;33m)\u001b[0m\u001b[1;33m\u001b[0m\u001b[0m\n\u001b[1;32m---> 22\u001b[1;33m \u001b[0mresult\u001b[0m \u001b[1;33m=\u001b[0m \u001b[0mradix_sort\u001b[0m\u001b[1;33m(\u001b[0m\u001b[0msrc_list\u001b[0m\u001b[1;33m)\u001b[0m\u001b[1;33m\u001b[0m\u001b[0m\n\u001b[0m\u001b[0;32m     23\u001b[0m \u001b[0mend\u001b[0m \u001b[1;33m=\u001b[0m \u001b[0mtime\u001b[0m\u001b[1;33m.\u001b[0m\u001b[0mtime\u001b[0m\u001b[1;33m(\u001b[0m\u001b[1;33m)\u001b[0m\u001b[1;33m\u001b[0m\u001b[0m\n\u001b[0;32m     24\u001b[0m \u001b[0mprint\u001b[0m \u001b[1;33m(\u001b[0m\u001b[1;34m\"耗时：%d 毫秒\"\u001b[0m \u001b[1;33m%\u001b[0m \u001b[0mint\u001b[0m\u001b[1;33m(\u001b[0m\u001b[0mround\u001b[0m\u001b[1;33m(\u001b[0m\u001b[1;33m(\u001b[0m\u001b[0mend\u001b[0m \u001b[1;33m-\u001b[0m \u001b[0mstart\u001b[0m\u001b[1;33m)\u001b[0m \u001b[1;33m*\u001b[0m \u001b[1;36m1000\u001b[0m\u001b[1;33m)\u001b[0m\u001b[1;33m)\u001b[0m\u001b[1;33m)\u001b[0m\u001b[1;33m\u001b[0m\u001b[0m\n",
      "\u001b[1;32m<ipython-input-44-5d6570d4cf27>\u001b[0m in \u001b[0;36mradix_sort\u001b[1;34m(alist)\u001b[0m\n\u001b[0;32m      3\u001b[0m     \u001b[0mi\u001b[0m \u001b[1;33m=\u001b[0m \u001b[1;36m0\u001b[0m\u001b[1;33m\u001b[0m\u001b[0m\n\u001b[0;32m      4\u001b[0m     \u001b[1;31m# 最大值的位数\u001b[0m\u001b[1;33m\u001b[0m\u001b[1;33m\u001b[0m\u001b[0m\n\u001b[1;32m----> 5\u001b[1;33m     \u001b[0mmax_num\u001b[0m \u001b[1;33m=\u001b[0m \u001b[0mmax\u001b[0m\u001b[1;33m(\u001b[0m\u001b[0malist\u001b[0m\u001b[1;33m)\u001b[0m\u001b[1;33m\u001b[0m\u001b[0m\n\u001b[0m\u001b[0;32m      6\u001b[0m     \u001b[0mj\u001b[0m \u001b[1;33m=\u001b[0m \u001b[0mlen\u001b[0m\u001b[1;33m(\u001b[0m\u001b[0mstr\u001b[0m\u001b[1;33m(\u001b[0m\u001b[0mmax_num\u001b[0m\u001b[1;33m)\u001b[0m\u001b[1;33m)\u001b[0m\u001b[1;33m\u001b[0m\u001b[0m\n\u001b[0;32m      7\u001b[0m     \u001b[1;32mwhile\u001b[0m \u001b[0mi\u001b[0m \u001b[1;33m<\u001b[0m \u001b[0mj\u001b[0m\u001b[1;33m:\u001b[0m\u001b[1;33m\u001b[0m\u001b[0m\n",
      "\u001b[1;31mValueError\u001b[0m: max() arg is an empty sequence"
     ]
    }
   ],
   "source": [
    "def radix_sort(alist):\n",
    "    # 记录正在对哪一位进行排序，最低位为个位\n",
    "    i = 0\n",
    "    # 最大值的位数\n",
    "    max_num = max(alist)\n",
    "    j = len(str(max_num))\n",
    "    while i < j:\n",
    "        # 建立桶数组，数字为0-9，所以建10个桶\n",
    "        bucket_list = [[]for i in range(10)]\n",
    "        # 按位数的大小分别装进不同的桶里\n",
    "        for num in alist:\n",
    "            bucket_list[int(num/(10**i)%10)].append(num)\n",
    "        #将原列表清空，将各个桶里的数据依次添加进原列表\n",
    "        alist.clear()\n",
    "        for l in bucket_list:\n",
    "            for b in l:\n",
    "                alist.append(b)\n",
    "        # 再进行前一位的排序，依次循环，直到排序的位数大于最大值的位数\n",
    "        i += 1\n",
    "    return alist\n",
    "start = time.time()\n",
    "result = radix_sort(src_list)\n",
    "end = time.time()\n",
    "print (\"耗时：%d 毫秒\" % int(round((end - start) * 1000)))"
   ]
  },
  {
   "cell_type": "code",
   "execution_count": null,
   "metadata": {},
   "outputs": [],
   "source": []
  },
  {
   "cell_type": "code",
   "execution_count": null,
   "metadata": {},
   "outputs": [],
   "source": []
  }
 ],
 "metadata": {
  "kernelspec": {
   "display_name": "Python 3",
   "language": "python",
   "name": "python3"
  }
 },
 "nbformat": 4,
 "nbformat_minor": 2
}
